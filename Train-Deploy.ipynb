{
 "cells": [
  {
   "cell_type": "markdown",
   "id": "f4052eb2",
   "metadata": {},
   "source": [
    "### Importing Libraries"
   ]
  },
  {
   "cell_type": "code",
   "execution_count": null,
   "id": "455f9396",
   "metadata": {},
   "outputs": [],
   "source": [
    "import os\n",
    "import json\n",
    "import boto3\n",
    "import re\n",
    "\n",
    "import sagemaker\n",
    "from sagemaker import get_execution_role\n",
    "from sagemaker.estimator import Estimator"
   ]
  },
  {
   "cell_type": "markdown",
   "id": "b7ab445e",
   "metadata": {},
   "source": [
    "### Creating config"
   ]
  },
  {
   "cell_type": "code",
   "execution_count": null,
   "id": "00fe8007",
   "metadata": {},
   "outputs": [],
   "source": [
    "sagemaker_session = sagemaker.Session()\n",
    "region = sagemaker_session.boto_session.region_name\n",
    "role = get_execution_role()"
   ]
  },
  {
   "cell_type": "markdown",
   "id": "4d8912eb",
   "metadata": {},
   "source": [
    "### Setting Path to S3"
   ]
  },
  {
   "cell_type": "code",
   "execution_count": null,
   "id": "ab9d416b",
   "metadata": {},
   "outputs": [],
   "source": [
    "S3_BUCKET = \"sagemaker-taxi-fare\"\n",
    "\n",
    "TRAIN_FOLDER  = r\"train/\"\n",
    "TEST_FOLDER  = r\"test/\"\n",
    "MODEL_FOLDER  = r\"model/\"\n",
    "\n",
    "TRAIN_DATA_URI = r\"s3://\" + S3_BUCKET + r\"/\" + TRAIN_FOLDER\n",
    "TEST_DATA_URI = r\"s3://\" + S3_BUCKET + r\"/\" + TEST_FOLDER"
   ]
  },
  {
   "cell_type": "markdown",
   "id": "99dd6033",
   "metadata": {},
   "source": [
    "### Prepare files required to build the containers"
   ]
  },
  {
   "cell_type": "code",
   "execution_count": null,
   "id": "3aa8c023",
   "metadata": {},
   "outputs": [],
   "source": [
    "REPOSITORY = \"taxi-fare\""
   ]
  },
  {
   "cell_type": "code",
   "execution_count": null,
   "id": "7b3a27da",
   "metadata": {},
   "outputs": [],
   "source": [
    "!mkdir build\n",
    "!cp Dockerfile build/\n",
    "!cp requirements.txt build/\n",
    "!mkdir build/src\n",
    "!cp src/* build/src/"
   ]
  },
  {
   "cell_type": "code",
   "execution_count": null,
   "id": "b60c0da1",
   "metadata": {},
   "outputs": [],
   "source": [
    "account_id = boto3.client(\"sts\").get_caller_identity().get(\"Account\")\n",
    "region = boto3.session.Session().region_name\n",
    "\n",
    "os.environ[\"AWS_ACCOUNT_ID\"] = account_id\n",
    "os.environ[\"AWS_REGION\"] = region\n",
    "os.environ[\"REPO_NAME\"] = REPOSITORY"
   ]
  },
  {
   "cell_type": "code",
   "execution_count": null,
   "id": "3fdabd7a",
   "metadata": {
    "scrolled": true
   },
   "outputs": [],
   "source": [
    "%%sh\n",
    "\n",
    "cd build\n",
    "docker build -t $REPO_NAME .\n",
    "aws ecr get-login-password --region $AWS_REGION | docker login --username AWS --password-stdin $AWS_ACCOUNT_ID.dkr.ecr.$AWS_REGION.amazonaws.com\n",
    "aws ecr create-repository --repository-name $REPO_NAME\n",
    "docker tag $REPO_NAME:latest $AWS_ACCOUNT_ID.dkr.ecr.$AWS_REGION.amazonaws.com/$REPO_NAME:latest\n",
    "docker push $AWS_ACCOUNT_ID.dkr.ecr.$AWS_REGION.amazonaws.com/$REPO_NAME:latest\n",
    "cd ..\n",
    "rm -r build/"
   ]
  },
  {
   "cell_type": "markdown",
   "id": "e9f13d8e",
   "metadata": {},
   "source": [
    "### Training Estimator"
   ]
  },
  {
   "cell_type": "code",
   "execution_count": null,
   "id": "b3fe8e39",
   "metadata": {},
   "outputs": [],
   "source": [
    "image_uri = f\"{account_id}.dkr.ecr.{region}.amazonaws.com/{REPOSITORY}:latest\""
   ]
  },
  {
   "cell_type": "code",
   "execution_count": null,
   "id": "09e337f7",
   "metadata": {},
   "outputs": [],
   "source": [
    "estimator = Estimator(\n",
    "    image_uri=image_uri,\n",
    "    role=get_execution_role(),\n",
    "    base_job_name=\"taxi-fare-v1\",\n",
    "    instance_count=1,\n",
    "    instance_type=\"ml.m5.large\",\n",
    "    hyperparameters = {'epochs': 10, 'batch-size': 10, 'learning-rate': 0.01, 'verbose': 1}\n",
    ")"
   ]
  },
  {
   "cell_type": "code",
   "execution_count": null,
   "id": "cf33c70b",
   "metadata": {
    "scrolled": true
   },
   "outputs": [],
   "source": [
    "estimator.fit({\n",
    "    \"train\": TRAIN_DATA_URI,\n",
    "    \"test\": TEST_DATA_URI\n",
    "})"
   ]
  },
  {
   "cell_type": "markdown",
   "id": "b40369af",
   "metadata": {},
   "source": [
    "### Deploying Estimator"
   ]
  },
  {
   "cell_type": "code",
   "execution_count": null,
   "id": "9fcf63a0",
   "metadata": {},
   "outputs": [],
   "source": [
    "ENDPOINT_NAME = \"taxi-fare-nyc\"\n",
    "runtime = boto3.client('runtime.sagemaker')"
   ]
  },
  {
   "cell_type": "code",
   "execution_count": null,
   "id": "800eb7b3",
   "metadata": {
    "scrolled": false
   },
   "outputs": [],
   "source": [
    "predictor = estimator.deploy(\n",
    "    initial_instance_count=1,\n",
    "    instance_type=\"ml.m5.large\",\n",
    "    endpoint_name=ENDPOINT_NAME\n",
    ")"
   ]
  },
  {
   "cell_type": "code",
   "execution_count": null,
   "id": "7752b567",
   "metadata": {},
   "outputs": [],
   "source": [
    "input_data = {\n",
    "    None\n",
    "}"
   ]
  },
  {
   "cell_type": "code",
   "execution_count": null,
   "id": "1a31cf56",
   "metadata": {
    "scrolled": true
   },
   "outputs": [],
   "source": [
    "response  = runtime.invoke_endpoint(\n",
    "    EndpointName=ENDPOINT_NAME,\n",
    "    ContentType=\"application/json\",\n",
    "    Body=json.dumps(input_data)\n",
    ")"
   ]
  },
  {
   "cell_type": "code",
   "execution_count": null,
   "metadata": {},
   "outputs": [],
   "source": [
    "result = json.loads(response['Body'].read().decode())\n",
    "result"
   ]
  },
  {
   "cell_type": "markdown",
   "id": "cf93d6b8",
   "metadata": {},
   "source": [
    "Cleaning up endpoint once we are done with it"
   ]
  },
  {
   "cell_type": "code",
   "execution_count": null,
   "id": "d08c469f",
   "metadata": {},
   "outputs": [],
   "source": [
    "sagemaker_session.delete_endpoint(endpoint_name=predictor.endpoint)"
   ]
  }
 ],
 "metadata": {
  "kernelspec": {
   "display_name": "conda_tensorflow_p36",
   "language": "python",
   "name": "conda_tensorflow_p36"
  },
  "language_info": {
   "codemirror_mode": {
    "name": "ipython",
    "version": 3
   },
   "file_extension": ".py",
   "mimetype": "text/x-python",
   "name": "python",
   "nbconvert_exporter": "python",
   "pygments_lexer": "ipython3",
   "version": "3.6.13"
  }
 },
 "nbformat": 4,
 "nbformat_minor": 5
}
