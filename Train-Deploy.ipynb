{
 "cells": [
  {
   "cell_type": "markdown",
   "id": "86b27543",
   "metadata": {},
   "source": [
    "### Importing Libraries"
   ]
  },
  {
   "cell_type": "code",
   "execution_count": 1,
   "id": "8c9d928c",
   "metadata": {},
   "outputs": [],
   "source": [
    "import os\n",
    "import json\n",
    "import boto3\n",
    "import re\n",
    "\n",
    "import sagemaker\n",
    "from sagemaker import get_execution_role\n",
    "from sagemaker.estimator import Estimator"
   ]
  },
  {
   "cell_type": "markdown",
   "id": "470396ed",
   "metadata": {},
   "source": [
    "### Creating config"
   ]
  },
  {
   "cell_type": "code",
   "execution_count": 2,
   "id": "ee40ee62",
   "metadata": {},
   "outputs": [],
   "source": [
    "sagemaker_session = sagemaker.Session()\n",
    "region = sagemaker_session.boto_session.region_name\n",
    "role = get_execution_role()"
   ]
  },
  {
   "cell_type": "markdown",
   "id": "0be04501",
   "metadata": {},
   "source": [
    "### Setting Path to S3"
   ]
  },
  {
   "cell_type": "code",
   "execution_count": 3,
   "id": "7ab64ed9",
   "metadata": {},
   "outputs": [],
   "source": [
    "S3_BUCKET = \"sagemaker-taxi-fare\"\n",
    "\n",
    "TRAIN_FOLDER  = r\"train/\"\n",
    "TEST_FOLDER  = r\"test/\"\n",
    "MODEL_FOLDER  = r\"model/\"\n",
    "\n",
    "TRAIN_DATA_URI = r\"s3://\" + S3_BUCKET + r\"/\" + TRAIN_FOLDER\n",
    "TEST_DATA_URI = r\"s3://\" + S3_BUCKET + r\"/\" + TEST_FOLDER"
   ]
  },
  {
   "cell_type": "markdown",
   "id": "d00cbc70",
   "metadata": {},
   "source": [
    "### Prepare files required to build the containers"
   ]
  },
  {
   "cell_type": "code",
   "execution_count": 4,
   "id": "0bdfa536",
   "metadata": {},
   "outputs": [],
   "source": [
    "REPOSITORY = \"taxi-fare\""
   ]
  },
  {
   "cell_type": "code",
   "execution_count": 5,
   "id": "8a4d23bc",
   "metadata": {},
   "outputs": [],
   "source": [
    "!mkdir build\n",
    "!cp Dockerfile build/\n",
    "!cp requirements.txt build/\n",
    "!mkdir build/src\n",
    "!cp src/* build/src/"
   ]
  },
  {
   "cell_type": "code",
   "execution_count": 6,
   "id": "db2a40d0",
   "metadata": {},
   "outputs": [],
   "source": [
    "account_id = boto3.client(\"sts\").get_caller_identity().get(\"Account\")\n",
    "region = boto3.session.Session().region_name\n",
    "\n",
    "os.environ[\"AWS_ACCOUNT_ID\"] = account_id\n",
    "os.environ[\"AWS_REGION\"] = region\n",
    "os.environ[\"REPO_NAME\"] = REPOSITORY"
   ]
  },
  {
   "cell_type": "code",
   "execution_count": null,
   "id": "b9ed4197",
   "metadata": {
    "scrolled": true
   },
   "outputs": [],
   "source": [
    "%%sh\n",
    "\n",
    "cd build\n",
    "docker build -t $REPO_NAME .\n",
    "aws ecr get-login-password --region $AWS_REGION | docker login --username AWS --password-stdin $AWS_ACCOUNT_ID.dkr.ecr.$AWS_REGION.amazonaws.com\n",
    "aws ecr create-repository --repository-name $REPO_NAME\n",
    "docker tag $REPO_NAME:latest $AWS_ACCOUNT_ID.dkr.ecr.$AWS_REGION.amazonaws.com/$REPO_NAME:latest\n",
    "docker push $AWS_ACCOUNT_ID.dkr.ecr.$AWS_REGION.amazonaws.com/$REPO_NAME:latest\n",
    "cd ..\n",
    "rm -r build/"
   ]
  },
  {
   "cell_type": "markdown",
   "id": "45bf8423",
   "metadata": {},
   "source": [
    "### Training Estimator"
   ]
  },
  {
   "cell_type": "code",
   "execution_count": 8,
   "id": "c959ff10",
   "metadata": {},
   "outputs": [],
   "source": [
    "image_uri = f\"{account_id}.dkr.ecr.{region}.amazonaws.com/{REPOSITORY}:latest\""
   ]
  },
  {
   "cell_type": "code",
   "execution_count": 9,
   "id": "1a4b3613",
   "metadata": {},
   "outputs": [],
   "source": [
    "estimator = Estimator(\n",
    "    image_uri=image_uri,\n",
    "    role=get_execution_role(),\n",
    "    base_job_name=\"taxi-fare-v1\",\n",
    "    instance_count=1,\n",
    "    instance_type=\"ml.m5.large\",\n",
    "    hyperparameters = {'cv_folds': 3, 'verbose': 1}\n",
    ")"
   ]
  },
  {
   "cell_type": "code",
   "execution_count": 10,
   "id": "25d6cc54",
   "metadata": {
    "scrolled": true
   },
   "outputs": [
    {
     "name": "stdout",
     "output_type": "stream",
     "text": [
      "2021-11-18 19:53:05 Starting - Starting the training job...\n",
      "2021-11-18 19:53:14 Starting - Launching requested ML instancesProfilerReport-1637265184: InProgress\n",
      "......\n",
      "2021-11-18 19:54:33 Starting - Preparing the instances for training.........\n",
      "2021-11-18 19:56:01 Downloading - Downloading input data\n",
      "2021-11-18 19:56:01 Training - Downloading the training image...\n",
      "2021-11-18 19:56:34 Training - Training image download completed. Training in progress..\u001b[34m[2021-11-18 19:56:34,799] INFO - TRAINING STARTED...\u001b[0m\n",
      "\u001b[34m[2021-11-18 19:56:34,799] INFO - PARAMETERS LOADED!\u001b[0m\n",
      "\u001b[34m[2021-11-18 19:56:35,009] INFO - DATA LOADED!\u001b[0m\n",
      "\u001b[34m[2021-11-18 19:56:53,973] INFO - FEATURES ENGINEERED!\u001b[0m\n",
      "\u001b[34m[2021-11-18 19:56:53,977] INFO - FEATURES AND TARGET VALUES DEFINED!\u001b[0m\n",
      "\u001b[34m[2021-11-18 19:56:53,978] INFO - MODEL ARTIFACTS CREATED!\u001b[0m\n",
      "\u001b[34m[2021-11-18 19:56:53,978] INFO - TRAINING MODEL...\u001b[0m\n",
      "\u001b[34m[2021-11-18 19:56:53,984] INFO - [GRADIENT_BOOSTING]\u001b[0m\n",
      "\u001b[34m[2021-11-18 20:05:53,062] INFO - #011Best parameters:\u001b[0m\n",
      "\u001b[34m- learning_rate = 0.1000\u001b[0m\n",
      "\u001b[34m- max_depth = 6.0000\u001b[0m\n",
      "\u001b[34m- n_estimators = 100.0000\u001b[0m\n",
      "\u001b[34m[2021-11-18 20:05:53,062] INFO - #011Train MSE: 0.1553 ± 0.0017\u001b[0m\n",
      "\u001b[34m[2021-11-18 20:05:53,062] INFO - #011  Val MSE: 0.1867 ± 0.0035\u001b[0m\n",
      "\u001b[34m[2021-11-18 20:05:53,063] INFO - TRAINING COMPLETED!!\u001b[0m\n",
      "\u001b[34m[2021-11-18 20:05:53,063] INFO - PREDICTING THE TEST DATA...\u001b[0m\n",
      "\u001b[34m[2021-11-18 20:05:53,254] INFO - EVALUATING PERFORMANCE...\u001b[0m\n",
      "\u001b[34m[2021-11-18 20:05:53,261] INFO - MSE = 9.1500\u001b[0m\n",
      "\u001b[34m[2021-11-18 20:05:53,261] INFO - RMSE = 3.0300\u001b[0m\n",
      "\u001b[34m[2021-11-18 20:05:53,261] INFO - MAE = 1.5400\u001b[0m\n",
      "\u001b[34m[2021-11-18 20:05:53,261] INFO - MAPE = 0.1700\u001b[0m\n",
      "\u001b[34m[2021-11-18 20:05:53,261] INFO - R2-Score = 0.7900\u001b[0m\n",
      "\u001b[34m[2021-11-18 20:05:53,261] INFO - SAVING MODEL...\u001b[0m\n",
      "\u001b[34m[2021-11-18 20:05:53,299] INFO - MODEL SAVED!\u001b[0m\n",
      "\n",
      "2021-11-18 20:06:44 Uploading - Uploading generated training model\n",
      "2021-11-18 20:06:57 Completed - Training job completed\n",
      "ProfilerReport-1637265184: NoIssuesFound\n",
      "Training seconds: 667\n",
      "Billable seconds: 667\n"
     ]
    }
   ],
   "source": [
    "estimator.fit({\n",
    "    \"train\": TRAIN_DATA_URI,\n",
    "    \"test\": TEST_DATA_URI\n",
    "})"
   ]
  },
  {
   "cell_type": "markdown",
   "id": "eef40c19",
   "metadata": {},
   "source": [
    "### Deploying Estimator"
   ]
  },
  {
   "cell_type": "code",
   "execution_count": 11,
   "id": "f8b13135",
   "metadata": {},
   "outputs": [],
   "source": [
    "ENDPOINT_NAME = \"taxi-fare-nyc\"\n",
    "runtime = boto3.client('runtime.sagemaker')"
   ]
  },
  {
   "cell_type": "code",
   "execution_count": 12,
   "id": "68974165",
   "metadata": {
    "scrolled": false
   },
   "outputs": [
    {
     "name": "stdout",
     "output_type": "stream",
     "text": [
      "----!"
     ]
    }
   ],
   "source": [
    "predictor = estimator.deploy(\n",
    "    initial_instance_count=1,\n",
    "    instance_type=\"ml.m5.large\",\n",
    "    endpoint_name=ENDPOINT_NAME\n",
    ")"
   ]
  },
  {
   "cell_type": "code",
   "execution_count": 13,
   "id": "7d8201cd",
   "metadata": {},
   "outputs": [],
   "source": [
    "input_data = {\n",
    "    \"taxi_ride_id\": 1,\n",
    "    \"pickup_datetime\": \"2010-04-19 08:17:56 UTC\",\n",
    "    \"pickup_longitude\": -73.992365,\n",
    "    \"pickup_latitude\": 40.730521,\n",
    "    \"dropoff_longitude\": -73.975499,\n",
    "    \"dropoff_latitude\": 40.744746,\n",
    "    \"passenger_count\": 1,\n",
    "}"
   ]
  },
  {
   "cell_type": "code",
   "execution_count": 14,
   "id": "3cabbec2",
   "metadata": {
    "scrolled": true
   },
   "outputs": [],
   "source": [
    "response  = runtime.invoke_endpoint(\n",
    "    EndpointName=ENDPOINT_NAME,\n",
    "    ContentType=\"application/json\",\n",
    "    Body=json.dumps(input_data)\n",
    ")"
   ]
  },
  {
   "cell_type": "code",
   "execution_count": 15,
   "id": "0e39ad63",
   "metadata": {},
   "outputs": [
    {
     "data": {
      "text/plain": [
       "{'taxi_fare_amount': 7.51, 'taxi_ride_id': 1}"
      ]
     },
     "execution_count": 15,
     "metadata": {},
     "output_type": "execute_result"
    }
   ],
   "source": [
    "result = json.loads(response['Body'].read().decode())\n",
    "result"
   ]
  },
  {
   "cell_type": "markdown",
   "id": "0023e940",
   "metadata": {},
   "source": [
    "Cleaning up endpoint once we are done with it"
   ]
  },
  {
   "cell_type": "code",
   "execution_count": 1,
   "id": "4a21ceee",
   "metadata": {},
   "outputs": [],
   "source": [
    "sagemaker_session.delete_endpoint(endpoint_name=predictor.endpoint)"
   ]
  }
 ],
 "metadata": {
  "interpreter": {
   "hash": "e8eeb08d19ef78bfd96d8af38d9d00be1de4d7a3b4d495d198b4b151a8d8794b"
  },
  "kernelspec": {
   "display_name": "conda_tensorflow_p36",
   "language": "python",
   "name": "python3"
  },
  "language_info": {
   "codemirror_mode": {
    "name": "ipython",
    "version": 3
   },
   "file_extension": ".py",
   "mimetype": "text/x-python",
   "name": "python",
   "nbconvert_exporter": "python",
   "pygments_lexer": "ipython3",
   "version": "3.7.11"
  }
 },
 "nbformat": 4,
 "nbformat_minor": 5
}
